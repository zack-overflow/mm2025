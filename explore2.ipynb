{
 "cells": [
  {
   "cell_type": "code",
   "execution_count": 1,
   "metadata": {},
   "outputs": [],
   "source": [
    "from scripts.load_data import load_player_data"
   ]
  },
  {
   "cell_type": "code",
   "execution_count": 3,
   "metadata": {},
   "outputs": [
    {
     "name": "stdout",
     "output_type": "stream",
     "text": [
      "/Users/zsg/projects/mm25-copy\n"
     ]
    }
   ],
   "source": [
    "pd = load_player_data(2024, {})"
   ]
  },
  {
   "cell_type": "code",
   "execution_count": 9,
   "metadata": {},
   "outputs": [
    {
     "data": {
      "text/plain": [
       "{'Walter Clayton Jr.': {'avg': 17.6, 'running_total': 0},\n",
       " 'Zyon Pullin': {'avg': 15.5, 'running_total': 0},\n",
       " 'Tyrese Samuel': {'avg': 13.9, 'running_total': 0},\n",
       " 'Will Richard': {'avg': 11.4, 'running_total': 0},\n",
       " 'Riley Kugel': {'avg': 9.2, 'running_total': 0},\n",
       " 'Alex Condon': {'avg': 7.7, 'running_total': 0},\n",
       " 'Micah Handlogten': {'avg': 5.3, 'running_total': 0},\n",
       " 'Thomas Haugh': {'avg': 3.9, 'running_total': 0},\n",
       " 'Denzel Aberdeen': {'avg': 3.3, 'running_total': 0},\n",
       " 'Julian Rishwain': {'avg': 1.6, 'running_total': 0},\n",
       " 'Kajus Kublickas': {'avg': 0.8, 'running_total': 0},\n",
       " 'Bennett Andersen': {'avg': 0.5, 'running_total': 0},\n",
       " 'Alex Klatsky': {'avg': 0.0, 'running_total': 0},\n",
       " 'Cooper Josefsberg': {'avg': 0.0, 'running_total': 0},\n",
       " 'Jack May': {'avg': 0.0, 'running_total': 0}}"
      ]
     },
     "execution_count": 9,
     "metadata": {},
     "output_type": "execute_result"
    }
   ],
   "source": [
    "pd['Florida']"
   ]
  }
 ],
 "metadata": {
  "kernelspec": {
   "display_name": "mm25",
   "language": "python",
   "name": "python3"
  },
  "language_info": {
   "codemirror_mode": {
    "name": "ipython",
    "version": 3
   },
   "file_extension": ".py",
   "mimetype": "text/x-python",
   "name": "python",
   "nbconvert_exporter": "python",
   "pygments_lexer": "ipython3",
   "version": "3.13.2"
  }
 },
 "nbformat": 4,
 "nbformat_minor": 2
}

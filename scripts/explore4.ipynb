{
 "cells": [
  {
   "cell_type": "code",
   "execution_count": 1,
   "metadata": {},
   "outputs": [],
   "source": [
    "import pickle\n",
    "import pandas as pd\n",
    "from load_team_data import full_kenpom_pipeline, read_unplayed_tournament\n",
    "from load_player_data import load_player_data\n",
    "from simulate_tournament import simulate_n_tournaments"
   ]
  },
  {
   "cell_type": "code",
   "execution_count": null,
   "metadata": {},
   "outputs": [
    {
     "name": "stdout",
     "output_type": "stream",
     "text": [
      "Scraping KenPom data for 2024...\n"
     ]
    },
    {
     "name": "stderr",
     "output_type": "stream",
     "text": [
      "/Users/zsg/projects/mm25-copy/scripts/load_team_data.py:33: FutureWarning: Passing literal html to 'read_html' is deprecated and will be removed in a future version. To read from a literal string, wrap it in a 'StringIO' object.\n",
      "  kenpom_df = pd.read_html(str(table))[0]\n"
     ]
    },
    {
     "name": "stdout",
     "output_type": "stream",
     "text": [
      "Loading player data for team link: /cbb/schools/connecticut/men/2024.html\n",
      "Loading player data for team link: /cbb/schools/stetson/men/2024.html\n",
      "{'UConn': {'Tristen Newton': {'ppg': 15.1, 'running_total_simulated': 0, 'link': '/cbb/players/tristen-newton-1.html', 'ground_truth_total': np.float64(87.0)}, 'Cam Spencer': {'ppg': 14.3, 'running_total_simulated': 0, 'link': '/cbb/players/cam-spencer-1.html', 'ground_truth_total': np.float64(80.0)}, 'Alex Karaban': {'ppg': 13.3, 'running_total_simulated': 0, 'link': '/cbb/players/alex-karaban-1.html', 'ground_truth_total': np.float64(58.0)}, 'Donovan Clingan': {'ppg': 13.0, 'running_total_simulated': 0, 'link': '/cbb/players/donovan-clingan-1.html', 'ground_truth_total': np.float64(92.0)}, 'Stephon Castle': {'ppg': 11.1, 'running_total_simulated': 0, 'link': '/cbb/players/stephon-castle-2.html', 'ground_truth_total': np.float64(75.0)}, 'Hassan Diarra': {'ppg': 6.1, 'running_total_simulated': 0, 'link': '/cbb/players/hassan-diarra-1.html', 'ground_truth_total': np.float64(39.0)}, 'Samson Johnson': {'ppg': 5.4, 'running_total_simulated': 0, 'link': '/cbb/players/samson-johnson-1.html', 'ground_truth_total': np.float64(29.0)}, 'Solomon Ball': {'ppg': 3.3, 'running_total_simulated': 0, 'link': '/cbb/players/solomon-ball-2.html', 'ground_truth_total': np.float64(5.0)}, 'Jaylin Stewart': {'ppg': 2.5, 'running_total_simulated': 0, 'link': '/cbb/players/jaylin-stewart-3.html', 'ground_truth_total': np.float64(9.0)}, 'Apostolos Roumoglou': {'ppg': 1.0, 'running_total_simulated': 0, 'link': '/cbb/players/apostolos-roumoglou-1.html', 'ground_truth_total': np.float64(7.0)}, 'Jayden Ross': {'ppg': 0.7, 'running_total_simulated': 0, 'link': '/cbb/players/jayden-ross-2.html', 'ground_truth_total': np.float64(2.0)}, 'Andrew Hurley': {'ppg': 0.4, 'running_total_simulated': 0, 'link': '/cbb/players/andrew-hurley-1.html', 'ground_truth_total': np.float64(0.0)}, 'Andre Johnson Jr.': {'ppg': 0.2, 'running_total_simulated': 0, 'link': '/cbb/players/andre-johnson-jr-1.html', 'ground_truth_total': np.float64(3.0)}, 'Youssouf Singare': {'ppg': 0.2, 'running_total_simulated': 0, 'link': '/cbb/players/youssouf-singare-1.html', 'ground_truth_total': np.float64(0.0)}}, 'Stetson': {'Jalen Blackmon': {'ppg': 21.3, 'running_total_simulated': 0, 'link': '/cbb/players/jalen-blackmon-1.html', 'ground_truth_total': np.float64(14.0)}, 'Stephan Swenson': {'ppg': 13.9, 'running_total_simulated': 0, 'link': '/cbb/players/stephan-swenson-1.html', 'ground_truth_total': np.float64(20.0)}, 'Aubin Gateretse': {'ppg': 11.6, 'running_total_simulated': 0, 'link': '/cbb/players/aubin-gateretse-1.html', 'ground_truth_total': np.float64(6.0)}, 'Alec Oglesby': {'ppg': 10.7, 'running_total_simulated': 0, 'link': '/cbb/players/alec-oglesby-1.html', 'ground_truth_total': np.float64(4.0)}, 'Josh Smith': {'ppg': 8.4, 'running_total_simulated': 0, 'link': '/cbb/players/josh-smith-4.html', 'ground_truth_total': np.int64(0)}, 'Treyton Thompson': {'ppg': 4.5, 'running_total_simulated': 0, 'link': '/cbb/players/treyton-thompson-1.html', 'ground_truth_total': np.float64(4.0)}, 'Tristan Gross': {'ppg': 4.0, 'running_total_simulated': 0, 'link': '/cbb/players/tristan-gross-1.html', 'ground_truth_total': np.float64(4.0)}, 'Cyncier Harrison': {'ppg': 3.7, 'running_total_simulated': 0, 'link': '/cbb/players/cyncier-harrison-1.html', 'ground_truth_total': np.int64(0)}, 'Jackson Huxtable': {'ppg': 3.0, 'running_total_simulated': 0, 'link': '/cbb/players/jackson-huxtable-1.html', 'ground_truth_total': np.int64(0)}, 'Giancarlo Valdez': {'ppg': 2.1, 'running_total_simulated': 0, 'link': '/cbb/players/giancarlo-valdez-1.html', 'ground_truth_total': np.float64(0.0)}, 'Landen Babusiak': {'ppg': 2.0, 'running_total_simulated': 0, 'link': '/cbb/players/landen-babusiak-1.html', 'ground_truth_total': np.int64(0)}, 'Finley Sheridan': {'ppg': 1.9, 'running_total_simulated': 0, 'link': '/cbb/players/finley-sheridan-1.html', 'ground_truth_total': np.float64(0.0)}, 'Naeem Lewis': {'ppg': 1.6, 'running_total_simulated': 0, 'link': '/cbb/players/naeem-lewis-1.html', 'ground_truth_total': np.float64(0.0)}, 'Alex Doyle': {'ppg': 1.3, 'running_total_simulated': 0, 'link': '/cbb/players/alex-doyle-1.html', 'ground_truth_total': np.float64(0.0)}, 'Bruce Kanno': {'ppg': 1.3, 'running_total_simulated': 0, 'link': '/cbb/players/bruce-kanno-1.html', 'ground_truth_total': np.int64(0)}, 'Isaac Jones': {'ppg': 1.1, 'running_total_simulated': 0, 'link': '/cbb/players/isaac-jones-4.html', 'ground_truth_total': np.float64(0.0)}}}\n",
      "Loading player data for team link: /cbb/schools/florida-atlantic/men/2024.html\n",
      "Loading player data for team link: /cbb/schools/northwestern/men/2024.html\n",
      "{'UConn': {'Tristen Newton': {'ppg': 15.1, 'running_total_simulated': 0, 'link': '/cbb/players/tristen-newton-1.html', 'ground_truth_total': np.float64(87.0)}, 'Cam Spencer': {'ppg': 14.3, 'running_total_simulated': 0, 'link': '/cbb/players/cam-spencer-1.html', 'ground_truth_total': np.float64(80.0)}, 'Alex Karaban': {'ppg': 13.3, 'running_total_simulated': 0, 'link': '/cbb/players/alex-karaban-1.html', 'ground_truth_total': np.float64(58.0)}, 'Donovan Clingan': {'ppg': 13.0, 'running_total_simulated': 0, 'link': '/cbb/players/donovan-clingan-1.html', 'ground_truth_total': np.float64(92.0)}, 'Stephon Castle': {'ppg': 11.1, 'running_total_simulated': 0, 'link': '/cbb/players/stephon-castle-2.html', 'ground_truth_total': np.float64(75.0)}, 'Hassan Diarra': {'ppg': 6.1, 'running_total_simulated': 0, 'link': '/cbb/players/hassan-diarra-1.html', 'ground_truth_total': np.float64(39.0)}, 'Samson Johnson': {'ppg': 5.4, 'running_total_simulated': 0, 'link': '/cbb/players/samson-johnson-1.html', 'ground_truth_total': np.float64(29.0)}, 'Solomon Ball': {'ppg': 3.3, 'running_total_simulated': 0, 'link': '/cbb/players/solomon-ball-2.html', 'ground_truth_total': np.float64(5.0)}, 'Jaylin Stewart': {'ppg': 2.5, 'running_total_simulated': 0, 'link': '/cbb/players/jaylin-stewart-3.html', 'ground_truth_total': np.float64(9.0)}, 'Apostolos Roumoglou': {'ppg': 1.0, 'running_total_simulated': 0, 'link': '/cbb/players/apostolos-roumoglou-1.html', 'ground_truth_total': np.float64(7.0)}, 'Jayden Ross': {'ppg': 0.7, 'running_total_simulated': 0, 'link': '/cbb/players/jayden-ross-2.html', 'ground_truth_total': np.float64(2.0)}, 'Andrew Hurley': {'ppg': 0.4, 'running_total_simulated': 0, 'link': '/cbb/players/andrew-hurley-1.html', 'ground_truth_total': np.float64(0.0)}, 'Andre Johnson Jr.': {'ppg': 0.2, 'running_total_simulated': 0, 'link': '/cbb/players/andre-johnson-jr-1.html', 'ground_truth_total': np.float64(3.0)}, 'Youssouf Singare': {'ppg': 0.2, 'running_total_simulated': 0, 'link': '/cbb/players/youssouf-singare-1.html', 'ground_truth_total': np.float64(0.0)}}, 'Stetson': {'Jalen Blackmon': {'ppg': 21.3, 'running_total_simulated': 0, 'link': '/cbb/players/jalen-blackmon-1.html', 'ground_truth_total': np.float64(14.0)}, 'Stephan Swenson': {'ppg': 13.9, 'running_total_simulated': 0, 'link': '/cbb/players/stephan-swenson-1.html', 'ground_truth_total': np.float64(20.0)}, 'Aubin Gateretse': {'ppg': 11.6, 'running_total_simulated': 0, 'link': '/cbb/players/aubin-gateretse-1.html', 'ground_truth_total': np.float64(6.0)}, 'Alec Oglesby': {'ppg': 10.7, 'running_total_simulated': 0, 'link': '/cbb/players/alec-oglesby-1.html', 'ground_truth_total': np.float64(4.0)}, 'Josh Smith': {'ppg': 8.4, 'running_total_simulated': 0, 'link': '/cbb/players/josh-smith-4.html', 'ground_truth_total': np.int64(0)}, 'Treyton Thompson': {'ppg': 4.5, 'running_total_simulated': 0, 'link': '/cbb/players/treyton-thompson-1.html', 'ground_truth_total': np.float64(4.0)}, 'Tristan Gross': {'ppg': 4.0, 'running_total_simulated': 0, 'link': '/cbb/players/tristan-gross-1.html', 'ground_truth_total': np.float64(4.0)}, 'Cyncier Harrison': {'ppg': 3.7, 'running_total_simulated': 0, 'link': '/cbb/players/cyncier-harrison-1.html', 'ground_truth_total': np.int64(0)}, 'Jackson Huxtable': {'ppg': 3.0, 'running_total_simulated': 0, 'link': '/cbb/players/jackson-huxtable-1.html', 'ground_truth_total': np.int64(0)}, 'Giancarlo Valdez': {'ppg': 2.1, 'running_total_simulated': 0, 'link': '/cbb/players/giancarlo-valdez-1.html', 'ground_truth_total': np.float64(0.0)}, 'Landen Babusiak': {'ppg': 2.0, 'running_total_simulated': 0, 'link': '/cbb/players/landen-babusiak-1.html', 'ground_truth_total': np.int64(0)}, 'Finley Sheridan': {'ppg': 1.9, 'running_total_simulated': 0, 'link': '/cbb/players/finley-sheridan-1.html', 'ground_truth_total': np.float64(0.0)}, 'Naeem Lewis': {'ppg': 1.6, 'running_total_simulated': 0, 'link': '/cbb/players/naeem-lewis-1.html', 'ground_truth_total': np.float64(0.0)}, 'Alex Doyle': {'ppg': 1.3, 'running_total_simulated': 0, 'link': '/cbb/players/alex-doyle-1.html', 'ground_truth_total': np.float64(0.0)}, 'Bruce Kanno': {'ppg': 1.3, 'running_total_simulated': 0, 'link': '/cbb/players/bruce-kanno-1.html', 'ground_truth_total': np.int64(0)}, 'Isaac Jones': {'ppg': 1.1, 'running_total_simulated': 0, 'link': '/cbb/players/isaac-jones-4.html', 'ground_truth_total': np.float64(0.0)}}, 'Florida Atlantic': {'Johnell Davis': {'ppg': 18.2, 'running_total_simulated': 0, 'link': '/cbb/players/johnell-davis-1.html', 'ground_truth_total': np.float64(18.0)}, 'Vladislav Goldin': {'ppg': 15.7, 'running_total_simulated': 0, 'link': '/cbb/players/vladislav-goldin-1.html', 'ground_truth_total': np.float64(19.0)}, 'Alijah Martin': {'ppg': 13.1, 'running_total_simulated': 0, 'link': '/cbb/players/alijah-martin-1.html', 'ground_truth_total': np.float64(6.0)}, 'Nick Boyd': {'ppg': 9.3, 'running_total_simulated': 0, 'link': '/cbb/players/nicholas-boyd-1.html', 'ground_truth_total': np.float64(3.0)}, 'Brandon Weatherspoon': {'ppg': 7.2, 'running_total_simulated': 0, 'link': '/cbb/players/brandon-weatherspoon-1.html', 'ground_truth_total': np.float64(10.0)}, 'Bryan Greenlee': {'ppg': 6.1, 'running_total_simulated': 0, 'link': '/cbb/players/bryan-greenlee-1.html', 'ground_truth_total': np.float64(7.0)}, 'Jalen Gaffney': {'ppg': 5.6, 'running_total_simulated': 0, 'link': '/cbb/players/jalen-gaffney-1.html', 'ground_truth_total': np.float64(0.0)}, 'Giancarlo Rosado': {'ppg': 4.8, 'running_total_simulated': 0, 'link': '/cbb/players/giancarlo-rosado-1.html', 'ground_truth_total': np.float64(0.0)}, 'Tre Carroll': {'ppg': 4.0, 'running_total_simulated': 0, 'link': '/cbb/players/tre-carroll-1.html', 'ground_truth_total': np.int64(0)}, 'Brenen Lorient': {'ppg': 2.2, 'running_total_simulated': 0, 'link': '/cbb/players/brenen-lorient-1.html', 'ground_truth_total': np.float64(2.0)}, 'Alejandro Ralat': {'ppg': 2.0, 'running_total_simulated': 0, 'link': '/cbb/players/alejandro-ralat-1.html', 'ground_truth_total': np.int64(0)}, 'Leo Beath': {'ppg': 1.0, 'running_total_simulated': 0, 'link': '/cbb/players/leo-beath-1.html', 'ground_truth_total': np.int64(0)}, 'Isaiah Gaines': {'ppg': 0.7, 'running_total_simulated': 0, 'link': '/cbb/players/isaiah-gaines-1.html', 'ground_truth_total': np.int64(0)}, 'Jack Johnson': {'ppg': 0.0, 'running_total_simulated': 0, 'link': '/cbb/players/jack-johnson-3.html', 'ground_truth_total': np.int64(0)}}, 'Northwestern': {'Boo Buie': {'ppg': 19.0, 'running_total_simulated': 0, 'link': '/cbb/players/boo-buie-1.html', 'ground_truth_total': np.float64(31.0)}, 'Brooks Barnhizer': {'ppg': 14.6, 'running_total_simulated': 0, 'link': '/cbb/players/brooks-barnhizer-1.html', 'ground_truth_total': np.float64(31.0)}, 'Ryan Langborg': {'ppg': 12.7, 'running_total_simulated': 0, 'link': '/cbb/players/ryan-langborg-1.html', 'ground_truth_total': np.float64(40.0)}, 'Ty Berry': {'ppg': 11.6, 'running_total_simulated': 0, 'link': '/cbb/players/ty-berry-1.html', 'ground_truth_total': np.int64(0)}, 'Nick Martinelli': {'ppg': 8.8, 'running_total_simulated': 0, 'link': '/cbb/players/nick-martinelli-1.html', 'ground_truth_total': np.float64(12.0)}, 'Matthew Nicholson': {'ppg': 5.3, 'running_total_simulated': 0, 'link': '/cbb/players/matthew-nicholson-1.html', 'ground_truth_total': np.int64(0)}, 'Luke Hunger': {'ppg': 3.8, 'running_total_simulated': 0, 'link': '/cbb/players/luke-hunger-1.html', 'ground_truth_total': np.float64(14.0)}, 'Blake Smith': {'ppg': 2.4, 'running_total_simulated': 0, 'link': '/cbb/players/blake-smith-3.html', 'ground_truth_total': np.float64(1.0)}, 'Blake Preston': {'ppg': 2.1, 'running_total_simulated': 0, 'link': '/cbb/players/blake-preston-1.html', 'ground_truth_total': np.float64(6.0)}, 'Justin Mullins': {'ppg': 0.4, 'running_total_simulated': 0, 'link': '/cbb/players/justin-mullins-1.html', 'ground_truth_total': np.float64(0.0)}, 'Gus Hurlburt': {'ppg': 0.3, 'running_total_simulated': 0, 'link': '/cbb/players/gus-hurlburt-1.html', 'ground_truth_total': np.int64(0)}, 'Jordan Clayton': {'ppg': 0.3, 'running_total_simulated': 0, 'link': '/cbb/players/jordan-clayton-1.html', 'ground_truth_total': np.float64(0.0)}}}\n",
      "Loading player data for team link: /cbb/schools/san-diego-state/men/2024.html\n",
      "Loading player data for team link: /cbb/schools/alabama-birmingham/men/2024.html\n",
      "{'UConn': {'Tristen Newton': {'ppg': 15.1, 'running_total_simulated': 0, 'link': '/cbb/players/tristen-newton-1.html', 'ground_truth_total': np.float64(87.0)}, 'Cam Spencer': {'ppg': 14.3, 'running_total_simulated': 0, 'link': '/cbb/players/cam-spencer-1.html', 'ground_truth_total': np.float64(80.0)}, 'Alex Karaban': {'ppg': 13.3, 'running_total_simulated': 0, 'link': '/cbb/players/alex-karaban-1.html', 'ground_truth_total': np.float64(58.0)}, 'Donovan Clingan': {'ppg': 13.0, 'running_total_simulated': 0, 'link': '/cbb/players/donovan-clingan-1.html', 'ground_truth_total': np.float64(92.0)}, 'Stephon Castle': {'ppg': 11.1, 'running_total_simulated': 0, 'link': '/cbb/players/stephon-castle-2.html', 'ground_truth_total': np.float64(75.0)}, 'Hassan Diarra': {'ppg': 6.1, 'running_total_simulated': 0, 'link': '/cbb/players/hassan-diarra-1.html', 'ground_truth_total': np.float64(39.0)}, 'Samson Johnson': {'ppg': 5.4, 'running_total_simulated': 0, 'link': '/cbb/players/samson-johnson-1.html', 'ground_truth_total': np.float64(29.0)}, 'Solomon Ball': {'ppg': 3.3, 'running_total_simulated': 0, 'link': '/cbb/players/solomon-ball-2.html', 'ground_truth_total': np.float64(5.0)}, 'Jaylin Stewart': {'ppg': 2.5, 'running_total_simulated': 0, 'link': '/cbb/players/jaylin-stewart-3.html', 'ground_truth_total': np.float64(9.0)}, 'Apostolos Roumoglou': {'ppg': 1.0, 'running_total_simulated': 0, 'link': '/cbb/players/apostolos-roumoglou-1.html', 'ground_truth_total': np.float64(7.0)}, 'Jayden Ross': {'ppg': 0.7, 'running_total_simulated': 0, 'link': '/cbb/players/jayden-ross-2.html', 'ground_truth_total': np.float64(2.0)}, 'Andrew Hurley': {'ppg': 0.4, 'running_total_simulated': 0, 'link': '/cbb/players/andrew-hurley-1.html', 'ground_truth_total': np.float64(0.0)}, 'Andre Johnson Jr.': {'ppg': 0.2, 'running_total_simulated': 0, 'link': '/cbb/players/andre-johnson-jr-1.html', 'ground_truth_total': np.float64(3.0)}, 'Youssouf Singare': {'ppg': 0.2, 'running_total_simulated': 0, 'link': '/cbb/players/youssouf-singare-1.html', 'ground_truth_total': np.float64(0.0)}}, 'Stetson': {'Jalen Blackmon': {'ppg': 21.3, 'running_total_simulated': 0, 'link': '/cbb/players/jalen-blackmon-1.html', 'ground_truth_total': np.float64(14.0)}, 'Stephan Swenson': {'ppg': 13.9, 'running_total_simulated': 0, 'link': '/cbb/players/stephan-swenson-1.html', 'ground_truth_total': np.float64(20.0)}, 'Aubin Gateretse': {'ppg': 11.6, 'running_total_simulated': 0, 'link': '/cbb/players/aubin-gateretse-1.html', 'ground_truth_total': np.float64(6.0)}, 'Alec Oglesby': {'ppg': 10.7, 'running_total_simulated': 0, 'link': '/cbb/players/alec-oglesby-1.html', 'ground_truth_total': np.float64(4.0)}, 'Josh Smith': {'ppg': 8.4, 'running_total_simulated': 0, 'link': '/cbb/players/josh-smith-4.html', 'ground_truth_total': np.int64(0)}, 'Treyton Thompson': {'ppg': 4.5, 'running_total_simulated': 0, 'link': '/cbb/players/treyton-thompson-1.html', 'ground_truth_total': np.float64(4.0)}, 'Tristan Gross': {'ppg': 4.0, 'running_total_simulated': 0, 'link': '/cbb/players/tristan-gross-1.html', 'ground_truth_total': np.float64(4.0)}, 'Cyncier Harrison': {'ppg': 3.7, 'running_total_simulated': 0, 'link': '/cbb/players/cyncier-harrison-1.html', 'ground_truth_total': np.int64(0)}, 'Jackson Huxtable': {'ppg': 3.0, 'running_total_simulated': 0, 'link': '/cbb/players/jackson-huxtable-1.html', 'ground_truth_total': np.int64(0)}, 'Giancarlo Valdez': {'ppg': 2.1, 'running_total_simulated': 0, 'link': '/cbb/players/giancarlo-valdez-1.html', 'ground_truth_total': np.float64(0.0)}, 'Landen Babusiak': {'ppg': 2.0, 'running_total_simulated': 0, 'link': '/cbb/players/landen-babusiak-1.html', 'ground_truth_total': np.int64(0)}, 'Finley Sheridan': {'ppg': 1.9, 'running_total_simulated': 0, 'link': '/cbb/players/finley-sheridan-1.html', 'ground_truth_total': np.float64(0.0)}, 'Naeem Lewis': {'ppg': 1.6, 'running_total_simulated': 0, 'link': '/cbb/players/naeem-lewis-1.html', 'ground_truth_total': np.float64(0.0)}, 'Alex Doyle': {'ppg': 1.3, 'running_total_simulated': 0, 'link': '/cbb/players/alex-doyle-1.html', 'ground_truth_total': np.float64(0.0)}, 'Bruce Kanno': {'ppg': 1.3, 'running_total_simulated': 0, 'link': '/cbb/players/bruce-kanno-1.html', 'ground_truth_total': np.int64(0)}, 'Isaac Jones': {'ppg': 1.1, 'running_total_simulated': 0, 'link': '/cbb/players/isaac-jones-4.html', 'ground_truth_total': np.float64(0.0)}}, 'Florida Atlantic': {'Johnell Davis': {'ppg': 18.2, 'running_total_simulated': 0, 'link': '/cbb/players/johnell-davis-1.html', 'ground_truth_total': np.float64(18.0)}, 'Vladislav Goldin': {'ppg': 15.7, 'running_total_simulated': 0, 'link': '/cbb/players/vladislav-goldin-1.html', 'ground_truth_total': np.float64(19.0)}, 'Alijah Martin': {'ppg': 13.1, 'running_total_simulated': 0, 'link': '/cbb/players/alijah-martin-1.html', 'ground_truth_total': np.float64(6.0)}, 'Nick Boyd': {'ppg': 9.3, 'running_total_simulated': 0, 'link': '/cbb/players/nicholas-boyd-1.html', 'ground_truth_total': np.float64(3.0)}, 'Brandon Weatherspoon': {'ppg': 7.2, 'running_total_simulated': 0, 'link': '/cbb/players/brandon-weatherspoon-1.html', 'ground_truth_total': np.float64(10.0)}, 'Bryan Greenlee': {'ppg': 6.1, 'running_total_simulated': 0, 'link': '/cbb/players/bryan-greenlee-1.html', 'ground_truth_total': np.float64(7.0)}, 'Jalen Gaffney': {'ppg': 5.6, 'running_total_simulated': 0, 'link': '/cbb/players/jalen-gaffney-1.html', 'ground_truth_total': np.float64(0.0)}, 'Giancarlo Rosado': {'ppg': 4.8, 'running_total_simulated': 0, 'link': '/cbb/players/giancarlo-rosado-1.html', 'ground_truth_total': np.float64(0.0)}, 'Tre Carroll': {'ppg': 4.0, 'running_total_simulated': 0, 'link': '/cbb/players/tre-carroll-1.html', 'ground_truth_total': np.int64(0)}, 'Brenen Lorient': {'ppg': 2.2, 'running_total_simulated': 0, 'link': '/cbb/players/brenen-lorient-1.html', 'ground_truth_total': np.float64(2.0)}, 'Alejandro Ralat': {'ppg': 2.0, 'running_total_simulated': 0, 'link': '/cbb/players/alejandro-ralat-1.html', 'ground_truth_total': np.int64(0)}, 'Leo Beath': {'ppg': 1.0, 'running_total_simulated': 0, 'link': '/cbb/players/leo-beath-1.html', 'ground_truth_total': np.int64(0)}, 'Isaiah Gaines': {'ppg': 0.7, 'running_total_simulated': 0, 'link': '/cbb/players/isaiah-gaines-1.html', 'ground_truth_total': np.int64(0)}, 'Jack Johnson': {'ppg': 0.0, 'running_total_simulated': 0, 'link': '/cbb/players/jack-johnson-3.html', 'ground_truth_total': np.int64(0)}}, 'Northwestern': {'Boo Buie': {'ppg': 19.0, 'running_total_simulated': 0, 'link': '/cbb/players/boo-buie-1.html', 'ground_truth_total': np.float64(31.0)}, 'Brooks Barnhizer': {'ppg': 14.6, 'running_total_simulated': 0, 'link': '/cbb/players/brooks-barnhizer-1.html', 'ground_truth_total': np.float64(31.0)}, 'Ryan Langborg': {'ppg': 12.7, 'running_total_simulated': 0, 'link': '/cbb/players/ryan-langborg-1.html', 'ground_truth_total': np.float64(40.0)}, 'Ty Berry': {'ppg': 11.6, 'running_total_simulated': 0, 'link': '/cbb/players/ty-berry-1.html', 'ground_truth_total': np.int64(0)}, 'Nick Martinelli': {'ppg': 8.8, 'running_total_simulated': 0, 'link': '/cbb/players/nick-martinelli-1.html', 'ground_truth_total': np.float64(12.0)}, 'Matthew Nicholson': {'ppg': 5.3, 'running_total_simulated': 0, 'link': '/cbb/players/matthew-nicholson-1.html', 'ground_truth_total': np.int64(0)}, 'Luke Hunger': {'ppg': 3.8, 'running_total_simulated': 0, 'link': '/cbb/players/luke-hunger-1.html', 'ground_truth_total': np.float64(14.0)}, 'Blake Smith': {'ppg': 2.4, 'running_total_simulated': 0, 'link': '/cbb/players/blake-smith-3.html', 'ground_truth_total': np.float64(1.0)}, 'Blake Preston': {'ppg': 2.1, 'running_total_simulated': 0, 'link': '/cbb/players/blake-preston-1.html', 'ground_truth_total': np.float64(6.0)}, 'Justin Mullins': {'ppg': 0.4, 'running_total_simulated': 0, 'link': '/cbb/players/justin-mullins-1.html', 'ground_truth_total': np.float64(0.0)}, 'Gus Hurlburt': {'ppg': 0.3, 'running_total_simulated': 0, 'link': '/cbb/players/gus-hurlburt-1.html', 'ground_truth_total': np.int64(0)}, 'Jordan Clayton': {'ppg': 0.3, 'running_total_simulated': 0, 'link': '/cbb/players/jordan-clayton-1.html', 'ground_truth_total': np.float64(0.0)}}, 'San Diego State': {'Jaedon Ledee': {'ppg': 21.4, 'running_total_simulated': 0, 'link': '/cbb/players/jaedon-ledee-1.html', 'ground_truth_total': np.float64(76.0)}, 'Reese Dixon-Waters': {'ppg': 9.6, 'running_total_simulated': 0, 'link': '/cbb/players/reese-waters-1.html', 'ground_truth_total': np.float64(10.0)}, 'Lamont Butler': {'ppg': 9.3, 'running_total_simulated': 0, 'link': '/cbb/players/lamont-butler-1.html', 'ground_truth_total': np.float64(31.0)}, 'Micah Parrish': {'ppg': 9.3, 'running_total_simulated': 0, 'link': '/cbb/players/micah-parrish-1.html', 'ground_truth_total': np.float64(19.0)}, 'Darrion Trammell': {'ppg': 7.8, 'running_total_simulated': 0, 'link': '/cbb/players/darrion-trammell-1.html', 'ground_truth_total': np.float64(25.0)}, 'Elijah Saunders': {'ppg': 6.2, 'running_total_simulated': 0, 'link': '/cbb/players/elijah-saunders-1.html', 'ground_truth_total': np.float64(16.0)}, 'Jay Pal': {'ppg': 5.1, 'running_total_simulated': 0, 'link': '/cbb/players/jay-pal-1.html', 'ground_truth_total': np.float64(7.0)}, 'Miles Byrd': {'ppg': 4.0, 'running_total_simulated': 0, 'link': '/cbb/players/miles-byrd-1.html', 'ground_truth_total': np.float64(14.0)}, 'Miles Heide': {'ppg': 1.9, 'running_total_simulated': 0, 'link': '/cbb/players/miles-heide-1.html', 'ground_truth_total': np.float64(0.0)}, 'BJ Davis': {'ppg': 1.2, 'running_total_simulated': 0, 'link': '/cbb/players/bj-davis-1.html', 'ground_truth_total': np.int64(6)}, 'Cam Lawin': {'ppg': 0.7, 'running_total_simulated': 0, 'link': '/cbb/players/cam-lawin-1.html', 'ground_truth_total': np.int64(0)}, 'Cade Alger': {'ppg': 0.4, 'running_total_simulated': 0, 'link': '/cbb/players/cade-alger-1.html', 'ground_truth_total': np.int64(2)}, 'Demarshay Johnson Jr.': {'ppg': 0.4, 'running_total_simulated': 0, 'link': '/cbb/players/demarshay-johnsonjr-1.html', 'ground_truth_total': np.float64(0.0)}, 'Desai Lopez': {'ppg': 0.0, 'running_total_simulated': 0, 'link': '/cbb/players/desai-lopez-1.html', 'ground_truth_total': np.int64(0)}, 'Ryan Schwarz': {'ppg': 0.0, 'running_total_simulated': 0, 'link': '/cbb/players/ryan-schwarz-1.html', 'ground_truth_total': np.int64(0)}}, 'UAB': {'Yaxel Lendeborg': {'ppg': 13.8, 'running_total_simulated': 0, 'link': '/cbb/players/yaxel-lendeborg-1.html', 'ground_truth_total': np.float64(11.0)}, 'Eric Gaines': {'ppg': 12.3, 'running_total_simulated': 0, 'link': '/cbb/players/eric-gaines-4.html', 'ground_truth_total': np.float64(14.0)}, 'Efrem Johnson': {'ppg': 11.2, 'running_total_simulated': 0, 'link': '/cbb/players/efrem-johnson-1.html', 'ground_truth_total': np.float64(19.0)}, 'Alejandro Vasquez': {'ppg': 11.1, 'running_total_simulated': 0, 'link': '/cbb/players/alejandro-vasquez-1.html', 'ground_truth_total': np.float64(7.0)}, 'Javian Davis': {'ppg': 9.0, 'running_total_simulated': 0, 'link': '/cbb/players/javian-davis-fleming-1.html', 'ground_truth_total': np.float64(7.0)}, 'Christian Coleman': {'ppg': 7.7, 'running_total_simulated': 0, 'link': '/cbb/players/christian-coleman-1.html', 'ground_truth_total': np.float64(2.0)}, 'Daniel Ortiz': {'ppg': 6.6, 'running_total_simulated': 0, 'link': '/cbb/players/daniel-ortiz-1.html', 'ground_truth_total': np.float64(2.0)}, 'Tony Toney': {'ppg': 4.6, 'running_total_simulated': 0, 'link': '/cbb/players/tony-toney-1.html', 'ground_truth_total': np.float64(2.0)}, 'James White': {'ppg': 3.4, 'running_total_simulated': 0, 'link': '/cbb/players/james-white-7.html', 'ground_truth_total': np.int64(0)}, 'KJ Satterfield': {'ppg': 3.0, 'running_total_simulated': 0, 'link': '/cbb/players/kj-satterfield-1.html', 'ground_truth_total': np.int64(0)}, 'Barry Dunning Jr.': {'ppg': 1.2, 'running_total_simulated': 0, 'link': '/cbb/players/barry-dunning-jr-1.html', 'ground_truth_total': np.float64(0.0)}, 'Will Shaver': {'ppg': 1.1, 'running_total_simulated': 0, 'link': '/cbb/players/will-shaver-1.html', 'ground_truth_total': np.float64(1.0)}, 'Jon Coleman': {'ppg': 0.0, 'running_total_simulated': 0, 'link': '/cbb/players/jon-coleman-1.html', 'ground_truth_total': np.int64(0)}, 'Ryan Donohoo': {'ppg': 0.0, 'running_total_simulated': 0, 'link': '/cbb/players/ryan-donohoo-1.html', 'ground_truth_total': np.int64(0)}}}\n",
      "Loading player data for team link: /cbb/schools/auburn/men/2024.html\n",
      "Loading player data for team link: /cbb/schools/yale/men/2024.html\n"
     ]
    }
   ],
   "source": [
    "year = 2024\n",
    "kenpom_ratings_df = full_kenpom_pipeline(year)\n",
    "matchups_dict = read_unplayed_tournament(year)\n",
    "player = load_player_data(year, matchups_dict)"
   ]
  },
  {
   "cell_type": "code",
   "execution_count": null,
   "metadata": {},
   "outputs": [],
   "source": [
    "\n",
    "probs, sims = simulate_n_tournaments(matchups_dict, player, kenpom_ratings_df, N=1000)\n",
    "\n",
    "# Convert the probabilities to a DataFrame for better readability\n",
    "df = pd.DataFrame(probs.items(), columns=['Team', 'Probability'])\n",
    "df = df.sort_values(by='Probability', ascending=False)\n",
    "df.reset_index(drop=True, inplace=True)"
   ]
  },
  {
   "cell_type": "code",
   "execution_count": null,
   "metadata": {},
   "outputs": [],
   "source": [
    "def convert_player_data(old_file):\n",
    "    with open(old_file, 'rb') as f:\n",
    "            player_data = pickle.load(f)\n",
    "\n",
    "    new = {}\n",
    "    for team in player_data:\n",
    "        new[team] = {}\n",
    "        for player in player_data[team]:\n",
    "            new[team][player] = {'avg': player_data[team][player], 'running_total': 0}\n",
    "\n",
    "    with open(f'NEW_player_data_2024.pkl', 'wb') as f:\n",
    "            pickle.dump(new, f)\n",
    "        \n",
    "\n",
    "# print(main())\n",
    "# convert_player_data('player_data_2024.pkl')\n",
    "# print(load_player_data(2024, {}))\n"
   ]
  },
  {
   "cell_type": "code",
   "execution_count": null,
   "metadata": {},
   "outputs": [],
   "source": [
    "target_players = {\n",
    "    (\"Purdue\", \"Zach Edey\"): 1,\n",
    "    (\"Tennessee\", \"Dalton Knecht\"): 1,\n",
    "    (\"Houston\", \"LJ Cryer\"): 1,\n",
    "    (\"Clemson\", \"PJ Hall\"): 2,\n",
    "    (\"Dayton\", \"DaRon Holmes II\"): 2,\n",
    "    (\"Morehead State\", \"Riley Minix\"): 3,\n",
    "    (\"Michigan State\", \"Tyson Walker\"): 2,\n",
    "    (\"UNC\", \"RJ Davis\"): 1,\n",
    "    (\"Florida\", \"Walter Clayton Jr.\"): 2,\n",
    "    (\"Florida\", \"Zyon Pullin\"): 2,\n",
    "    (\"Clemson\", \"Joseph Girard III\"): 2,\n",
    "    (\"Texas\", \"Max Abmas\"): 2,\n",
    "    (\"Texas Tech\", \"Pop Isaacs\"): 2,\n",
    "    (\"BYU\", \"Jaxson Robinson\"): 2,\n",
    "    (\"Akron\", \"Enrique Freeman\"): 3\n",
    "}\n",
    "\n",
    "global_sum_avg = 0\n",
    "num_sims = len(sims)\n",
    "print(\"Player Average Running Totals Over All Simulations:\")\n",
    "\n",
    "for (team, player), multiplier in target_players.items():\n",
    "    total_sum = 0\n",
    "    sim_count = 0\n",
    "    for sim in sims:\n",
    "        # Retrieve the player's running_total, if available in the simulation bookkeeping\n",
    "        running_total = sim.players_bookkeeping.get(team, {}).get(player, {}).get(\"running_total\")\n",
    "        if running_total is not None:\n",
    "            total_sum += running_total\n",
    "            sim_count += 1\n",
    "    if sim_count > 0:\n",
    "        avg_total = total_sum / sim_count\n",
    "        print(f\"Team: {team:15s} | Player: {player:20s} | \"\n",
    "              f\"Average Running Total: {avg_total:.2f} (Expected x{multiplier})\")\n",
    "        global_sum_avg += avg_total\n",
    "    else:\n",
    "        print(f\"Team: {team:15s} | Player: {player:20s} | Total Not Found\")\n",
    "\n",
    "print(\"\\nGlobal Sum of Averages for Target Players:\", global_sum_avg)"
   ]
  }
 ],
 "metadata": {
  "kernelspec": {
   "display_name": "mm25",
   "language": "python",
   "name": "python3"
  },
  "language_info": {
   "codemirror_mode": {
    "name": "ipython",
    "version": 3
   },
   "file_extension": ".py",
   "mimetype": "text/x-python",
   "name": "python",
   "nbconvert_exporter": "python",
   "pygments_lexer": "ipython3",
   "version": "3.13.2"
  }
 },
 "nbformat": 4,
 "nbformat_minor": 2
}

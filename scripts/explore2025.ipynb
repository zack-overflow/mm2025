{
 "cells": [
  {
   "cell_type": "code",
   "execution_count": 1,
   "metadata": {},
   "outputs": [],
   "source": [
    "import pandas as pd\n",
    "from load_data import full_kenpom_pipeline, read_unplayed_tournament, load_player_data\n",
    "from simulate_tournament import simulate_n_tournaments"
   ]
  },
  {
   "cell_type": "code",
   "execution_count": 2,
   "metadata": {},
   "outputs": [
    {
     "name": "stdout",
     "output_type": "stream",
     "text": [
      "Scraping KenPom data for 2025...\n"
     ]
    },
    {
     "name": "stderr",
     "output_type": "stream",
     "text": [
      "/Users/zsg/projects/mm25-copy/scripts/load_data.py:37: FutureWarning: Passing literal html to 'read_html' is deprecated and will be removed in a future version. To read from a literal string, wrap it in a 'StringIO' object.\n",
      "  kenpom_df = pd.read_html(str(table))[0]\n"
     ]
    },
    {
     "name": "stdout",
     "output_type": "stream",
     "text": [
      "/Users/zsg/projects/mm25-copy/scripts\n",
      "Loading player data for team link: /cbb/schools/duke/men/2025.html\n",
      "Loading player data for team link: None\n"
     ]
    },
    {
     "ename": "TypeError",
     "evalue": "can only concatenate str (not \"NoneType\") to str",
     "output_type": "error",
     "traceback": [
      "\u001b[31m---------------------------------------------------------------------------\u001b[39m",
      "\u001b[31mFileNotFoundError\u001b[39m                         Traceback (most recent call last)",
      "\u001b[36mFile \u001b[39m\u001b[32m~/projects/mm25-copy/scripts/load_data.py:207\u001b[39m, in \u001b[36mload_player_data\u001b[39m\u001b[34m(year, matchups_dict)\u001b[39m\n\u001b[32m    206\u001b[39m \u001b[38;5;28mprint\u001b[39m(os.getcwd())\n\u001b[32m--> \u001b[39m\u001b[32m207\u001b[39m \u001b[38;5;28;01mwith\u001b[39;00m \u001b[38;5;28;43mopen\u001b[39;49m\u001b[43m(\u001b[49m\u001b[33;43mf\u001b[39;49m\u001b[33;43m'\u001b[39;49m\u001b[33;43mplayer_data_\u001b[39;49m\u001b[38;5;132;43;01m{\u001b[39;49;00m\u001b[43myear\u001b[49m\u001b[38;5;132;43;01m}\u001b[39;49;00m\u001b[33;43m.pkl\u001b[39;49m\u001b[33;43m'\u001b[39;49m\u001b[43m,\u001b[49m\u001b[43m \u001b[49m\u001b[33;43m'\u001b[39;49m\u001b[33;43mrb\u001b[39;49m\u001b[33;43m'\u001b[39;49m\u001b[43m)\u001b[49m \u001b[38;5;28;01mas\u001b[39;00m f:\n\u001b[32m    208\u001b[39m     player_data = pickle.load(f)\n",
      "\u001b[31mFileNotFoundError\u001b[39m: [Errno 2] No such file or directory: 'player_data_2025.pkl'",
      "\nDuring handling of the above exception, another exception occurred:\n",
      "\u001b[31mTypeError\u001b[39m                                 Traceback (most recent call last)",
      "\u001b[36mCell\u001b[39m\u001b[36m \u001b[39m\u001b[32mIn[2]\u001b[39m\u001b[32m, line 4\u001b[39m\n\u001b[32m      2\u001b[39m kenpom_ratings_df = full_kenpom_pipeline(year)\n\u001b[32m      3\u001b[39m matchups_dict = read_unplayed_tournament(year)\n\u001b[32m----> \u001b[39m\u001b[32m4\u001b[39m player = \u001b[43mload_player_data\u001b[49m\u001b[43m(\u001b[49m\u001b[43myear\u001b[49m\u001b[43m,\u001b[49m\u001b[43m \u001b[49m\u001b[43mmatchups_dict\u001b[49m\u001b[43m)\u001b[49m\n\u001b[32m      5\u001b[39m probs, sims = simulate_n_tournaments(matchups_dict, player, kenpom_ratings_df, N=\u001b[32m10000\u001b[39m)\n\u001b[32m      7\u001b[39m \u001b[38;5;66;03m# Convert the probabilities to a DataFrame for better readability\u001b[39;00m\n",
      "\u001b[36mFile \u001b[39m\u001b[32m~/projects/mm25-copy/scripts/load_data.py:219\u001b[39m, in \u001b[36mload_player_data\u001b[39m\u001b[34m(year, matchups_dict)\u001b[39m\n\u001b[32m    217\u001b[39m     player_data[team1[\u001b[33m'\u001b[39m\u001b[33mname\u001b[39m\u001b[33m'\u001b[39m]] = load_player_data_for_team(team1[\u001b[33m'\u001b[39m\u001b[33mlink\u001b[39m\u001b[33m'\u001b[39m])\n\u001b[32m    218\u001b[39m \u001b[38;5;28;01mif\u001b[39;00m team2[\u001b[33m'\u001b[39m\u001b[33mname\u001b[39m\u001b[33m'\u001b[39m] \u001b[38;5;129;01mnot\u001b[39;00m \u001b[38;5;129;01min\u001b[39;00m player_data:\n\u001b[32m--> \u001b[39m\u001b[32m219\u001b[39m     player_data[team2[\u001b[33m'\u001b[39m\u001b[33mname\u001b[39m\u001b[33m'\u001b[39m]] = \u001b[43mload_player_data_for_team\u001b[49m\u001b[43m(\u001b[49m\u001b[43mteam2\u001b[49m\u001b[43m[\u001b[49m\u001b[33;43m'\u001b[39;49m\u001b[33;43mlink\u001b[39;49m\u001b[33;43m'\u001b[39;49m\u001b[43m]\u001b[49m\u001b[43m)\u001b[49m\n\u001b[32m    221\u001b[39m \u001b[38;5;66;03m# Simulate a delay to avoid overwhelming the server\u001b[39;00m\n\u001b[32m    222\u001b[39m time.sleep(\u001b[32m3.6\u001b[39m)\n",
      "\u001b[36mFile \u001b[39m\u001b[32m~/projects/mm25-copy/scripts/load_data.py:169\u001b[39m, in \u001b[36mload_player_data_for_team\u001b[39m\u001b[34m(team_link)\u001b[39m\n\u001b[32m    167\u001b[39m \u001b[38;5;66;03m# Use requests to get the content of the webpage\u001b[39;00m\n\u001b[32m    168\u001b[39m \u001b[38;5;28mprint\u001b[39m(\u001b[33mf\u001b[39m\u001b[33m\"\u001b[39m\u001b[33mLoading player data for team link: \u001b[39m\u001b[38;5;132;01m{\u001b[39;00mteam_link\u001b[38;5;132;01m}\u001b[39;00m\u001b[33m\"\u001b[39m)\n\u001b[32m--> \u001b[39m\u001b[32m169\u001b[39m url = \u001b[33;43m\"\u001b[39;49m\u001b[33;43mhttps://www.sports-reference.com\u001b[39;49m\u001b[33;43m\"\u001b[39;49m\u001b[43m \u001b[49m\u001b[43m+\u001b[49m\u001b[43m \u001b[49m\u001b[43mteam_link\u001b[49m\n\u001b[32m    170\u001b[39m response = requests.get(url)\n\u001b[32m    171\u001b[39m html_content = response.text\n",
      "\u001b[31mTypeError\u001b[39m: can only concatenate str (not \"NoneType\") to str"
     ]
    }
   ],
   "source": [
    "year = 2025\n",
    "kenpom_ratings_df = full_kenpom_pipeline(year)\n",
    "matchups_dict = read_unplayed_tournament(year)\n",
    "player = load_player_data(year, matchups_dict)\n",
    "probs, sims = simulate_n_tournaments(matchups_dict, player, kenpom_ratings_df, N=10000)\n",
    "\n",
    "# Convert the probabilities to a DataFrame for better readability\n",
    "df = pd.DataFrame(probs.items(), columns=['Team', 'Probability'])\n",
    "df = df.sort_values(by='Probability', ascending=False)\n",
    "df.reset_index(drop=True, inplace=True)"
   ]
  }
 ],
 "metadata": {
  "kernelspec": {
   "display_name": "mm25",
   "language": "python",
   "name": "python3"
  },
  "language_info": {
   "codemirror_mode": {
    "name": "ipython",
    "version": 3
   },
   "file_extension": ".py",
   "mimetype": "text/x-python",
   "name": "python",
   "nbconvert_exporter": "python",
   "pygments_lexer": "ipython3",
   "version": "3.13.2"
  }
 },
 "nbformat": 4,
 "nbformat_minor": 2
}
